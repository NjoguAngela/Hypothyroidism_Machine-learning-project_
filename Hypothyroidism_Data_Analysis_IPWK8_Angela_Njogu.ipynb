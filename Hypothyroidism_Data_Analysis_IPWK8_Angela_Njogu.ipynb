{
  "nbformat": 4,
  "nbformat_minor": 0,
  "metadata": {
    "colab": {
      "name": "Hypothyroidism_Data_Analysis- IPWK8_Angela_Njogu.ipynb",
      "provenance": [],
      "collapsed_sections": []
    },
    "kernelspec": {
      "display_name": "Python 3",
      "name": "python3"
    },
    "language_info": {
      "name": "python"
    }
  },
  "cells": [
    {
      "cell_type": "markdown",
      "metadata": {
        "id": "YaCQS8jZUdaI"
      },
      "source": [
        "### Defining the question"
      ]
    },
    {
      "cell_type": "markdown",
      "metadata": {
        "id": "BA5T1KytUiMz"
      },
      "source": [
        "#### Specifying the question"
      ]
    },
    {
      "cell_type": "markdown",
      "metadata": {
        "id": "_qY3HQ5QOjrZ"
      },
      "source": [
        "What are the characteristics exhibited by a patient with hypothyroidism? "
      ]
    },
    {
      "cell_type": "markdown",
      "metadata": {
        "id": "UADEZ3AYUmMm"
      },
      "source": [
        "####  Defining the metrics of success"
      ]
    },
    {
      "cell_type": "markdown",
      "metadata": {
        "id": "0vFY9tu8OkO1"
      },
      "source": [
        "To term my analysis successful, I should have been able to create models for determining whether a patient is positive for hypothyroidism or isn't."
      ]
    },
    {
      "cell_type": "markdown",
      "metadata": {
        "id": "rghG-9H-UtMa"
      },
      "source": [
        "#### Understanding the context"
      ]
    },
    {
      "cell_type": "markdown",
      "metadata": {
        "id": "26pWEG_ROk29"
      },
      "source": [
        "The dataset involved in this analysis is one of patients in a hospital. The data details the patients' characteristics, their given diagnosis of hypothyroidism, whether or not they have certain conditions and tests they underwent. The dataset can be found [here](http://bit.ly/hypothyroid_data)."
      ]
    },
    {
      "cell_type": "markdown",
      "metadata": {
        "id": "9omUq8AAUywK"
      },
      "source": [
        "### Reading the data"
      ]
    },
    {
      "cell_type": "markdown",
      "metadata": {
        "id": "rjnazmahVHkr"
      },
      "source": [
        "Importing relevant libraries"
      ]
    },
    {
      "cell_type": "code",
      "metadata": {
        "id": "cVC-Ee3KNkbS"
      },
      "source": [
        "import pandas as pd\n",
        "import numpy as np\n",
        "import seaborn as sns\n",
        "import matplotlib.pyplot as plt\n",
        "from sklearn import metrics\n",
        "from sklearn import tree, ensemble, model_selection, svm, preprocessing, decomposition\n"
      ],
      "execution_count": null,
      "outputs": []
    },
    {
      "cell_type": "markdown",
      "metadata": {
        "id": "dzMLdWWXVLmi"
      },
      "source": [
        "Setting standard parameters for my visualizations:"
      ]
    },
    {
      "cell_type": "code",
      "metadata": {
        "id": "_1_hDvasVuhj"
      },
      "source": [
        "plt.rcParams['axes.titlesize'] = 12\n",
        "plt.rcParams['axes.titleweight'] = 700\n",
        "plt.rcParams['axes.labelsize'] = 10\n",
        "plt.rcParams['axes.labelweight'] = 500\n",
        "sns.set_theme(style='darkgrid')\n",
        "plt.rcParams['figure.figsize'] = (10,8)"
      ],
      "execution_count": null,
      "outputs": []
    },
    {
      "cell_type": "markdown",
      "metadata": {
        "id": "d4EG105T69Ky"
      },
      "source": [
        "Loading my data"
      ]
    },
    {
      "cell_type": "code",
      "metadata": {
        "id": "LxGnvQITSmLY"
      },
      "source": [
        "ht = pd.read_csv(\"/content/hypothyroid.csv\")"
      ],
      "execution_count": null,
      "outputs": []
    },
    {
      "cell_type": "markdown",
      "metadata": {
        "id": "4OhRN7yrU579"
      },
      "source": [
        "### Checking the data"
      ]
    },
    {
      "cell_type": "code",
      "metadata": {
        "colab": {
          "base_uri": "https://localhost:8080/"
        },
        "id": "Jqqq6_T47NBi",
        "outputId": "781e7c76-0f41-47f5-98ee-aca96c3758b8"
      },
      "source": [
        "# checking the shape of the dataset\n",
        "\n",
        "print('The dataset has',ht.shape[0],'rows and',ht.shape[1],'columns.')"
      ],
      "execution_count": null,
      "outputs": [
        {
          "name": "stdout",
          "output_type": "stream",
          "text": [
            "The dataset has 3163 rows and 26 columns.\n"
          ]
        }
      ]
    },
    {
      "cell_type": "code",
      "metadata": {
        "colab": {
          "base_uri": "https://localhost:8080/"
        },
        "id": "d_FEUHSHSyOo",
        "outputId": "80f1cb50-5915-4881-b39f-515495724250"
      },
      "source": [
        "# previewing the first 5 columns of our dataset\n",
        "\n",
        "ht.head()"
      ],
      "execution_count": null,
      "outputs": [
        {
          "data": {
            "text/html": [
              "<div>\n",
              "<style scoped>\n",
              "    .dataframe tbody tr th:only-of-type {\n",
              "        vertical-align: middle;\n",
              "    }\n",
              "\n",
              "    .dataframe tbody tr th {\n",
              "        vertical-align: top;\n",
              "    }\n",
              "\n",
              "    .dataframe thead th {\n",
              "        text-align: right;\n",
              "    }\n",
              "</style>\n",
              "<table border=\"1\" class=\"dataframe\">\n",
              "  <thead>\n",
              "    <tr style=\"text-align: right;\">\n",
              "      <th></th>\n",
              "      <th>status</th>\n",
              "      <th>age</th>\n",
              "      <th>sex</th>\n",
              "      <th>on_thyroxine</th>\n",
              "      <th>query_on_thyroxine</th>\n",
              "      <th>on_antithyroid_medication</th>\n",
              "      <th>thyroid_surgery</th>\n",
              "      <th>query_hypothyroid</th>\n",
              "      <th>query_hyperthyroid</th>\n",
              "      <th>pregnant</th>\n",
              "      <th>sick</th>\n",
              "      <th>tumor</th>\n",
              "      <th>lithium</th>\n",
              "      <th>goitre</th>\n",
              "      <th>TSH_measured</th>\n",
              "      <th>TSH</th>\n",
              "      <th>T3_measured</th>\n",
              "      <th>T3</th>\n",
              "      <th>TT4_measured</th>\n",
              "      <th>TT4</th>\n",
              "      <th>T4U_measured</th>\n",
              "      <th>T4U</th>\n",
              "      <th>FTI_measured</th>\n",
              "      <th>FTI</th>\n",
              "      <th>TBG_measured</th>\n",
              "      <th>TBG</th>\n",
              "    </tr>\n",
              "  </thead>\n",
              "  <tbody>\n",
              "    <tr>\n",
              "      <th>0</th>\n",
              "      <td>hypothyroid</td>\n",
              "      <td>72</td>\n",
              "      <td>M</td>\n",
              "      <td>f</td>\n",
              "      <td>f</td>\n",
              "      <td>f</td>\n",
              "      <td>f</td>\n",
              "      <td>f</td>\n",
              "      <td>f</td>\n",
              "      <td>f</td>\n",
              "      <td>f</td>\n",
              "      <td>f</td>\n",
              "      <td>f</td>\n",
              "      <td>f</td>\n",
              "      <td>y</td>\n",
              "      <td>30</td>\n",
              "      <td>y</td>\n",
              "      <td>0.6</td>\n",
              "      <td>y</td>\n",
              "      <td>15</td>\n",
              "      <td>y</td>\n",
              "      <td>1.48</td>\n",
              "      <td>y</td>\n",
              "      <td>10</td>\n",
              "      <td>n</td>\n",
              "      <td>?</td>\n",
              "    </tr>\n",
              "    <tr>\n",
              "      <th>1</th>\n",
              "      <td>hypothyroid</td>\n",
              "      <td>15</td>\n",
              "      <td>F</td>\n",
              "      <td>t</td>\n",
              "      <td>f</td>\n",
              "      <td>f</td>\n",
              "      <td>f</td>\n",
              "      <td>f</td>\n",
              "      <td>f</td>\n",
              "      <td>f</td>\n",
              "      <td>f</td>\n",
              "      <td>f</td>\n",
              "      <td>f</td>\n",
              "      <td>f</td>\n",
              "      <td>y</td>\n",
              "      <td>145</td>\n",
              "      <td>y</td>\n",
              "      <td>1.7</td>\n",
              "      <td>y</td>\n",
              "      <td>19</td>\n",
              "      <td>y</td>\n",
              "      <td>1.13</td>\n",
              "      <td>y</td>\n",
              "      <td>17</td>\n",
              "      <td>n</td>\n",
              "      <td>?</td>\n",
              "    </tr>\n",
              "    <tr>\n",
              "      <th>2</th>\n",
              "      <td>hypothyroid</td>\n",
              "      <td>24</td>\n",
              "      <td>M</td>\n",
              "      <td>f</td>\n",
              "      <td>f</td>\n",
              "      <td>f</td>\n",
              "      <td>f</td>\n",
              "      <td>f</td>\n",
              "      <td>f</td>\n",
              "      <td>f</td>\n",
              "      <td>f</td>\n",
              "      <td>f</td>\n",
              "      <td>f</td>\n",
              "      <td>f</td>\n",
              "      <td>y</td>\n",
              "      <td>0</td>\n",
              "      <td>y</td>\n",
              "      <td>0.2</td>\n",
              "      <td>y</td>\n",
              "      <td>4</td>\n",
              "      <td>y</td>\n",
              "      <td>1</td>\n",
              "      <td>y</td>\n",
              "      <td>0</td>\n",
              "      <td>n</td>\n",
              "      <td>?</td>\n",
              "    </tr>\n",
              "    <tr>\n",
              "      <th>3</th>\n",
              "      <td>hypothyroid</td>\n",
              "      <td>24</td>\n",
              "      <td>F</td>\n",
              "      <td>f</td>\n",
              "      <td>f</td>\n",
              "      <td>f</td>\n",
              "      <td>f</td>\n",
              "      <td>f</td>\n",
              "      <td>f</td>\n",
              "      <td>f</td>\n",
              "      <td>f</td>\n",
              "      <td>f</td>\n",
              "      <td>f</td>\n",
              "      <td>f</td>\n",
              "      <td>y</td>\n",
              "      <td>430</td>\n",
              "      <td>y</td>\n",
              "      <td>0.4</td>\n",
              "      <td>y</td>\n",
              "      <td>6</td>\n",
              "      <td>y</td>\n",
              "      <td>1.04</td>\n",
              "      <td>y</td>\n",
              "      <td>6</td>\n",
              "      <td>n</td>\n",
              "      <td>?</td>\n",
              "    </tr>\n",
              "    <tr>\n",
              "      <th>4</th>\n",
              "      <td>hypothyroid</td>\n",
              "      <td>77</td>\n",
              "      <td>M</td>\n",
              "      <td>f</td>\n",
              "      <td>f</td>\n",
              "      <td>f</td>\n",
              "      <td>f</td>\n",
              "      <td>f</td>\n",
              "      <td>f</td>\n",
              "      <td>f</td>\n",
              "      <td>f</td>\n",
              "      <td>f</td>\n",
              "      <td>f</td>\n",
              "      <td>f</td>\n",
              "      <td>y</td>\n",
              "      <td>7.3</td>\n",
              "      <td>y</td>\n",
              "      <td>1.2</td>\n",
              "      <td>y</td>\n",
              "      <td>57</td>\n",
              "      <td>y</td>\n",
              "      <td>1.28</td>\n",
              "      <td>y</td>\n",
              "      <td>44</td>\n",
              "      <td>n</td>\n",
              "      <td>?</td>\n",
              "    </tr>\n",
              "  </tbody>\n",
              "</table>\n",
              "</div>"
            ],
            "text/plain": [
              "        status age sex on_thyroxine  ... FTI_measured FTI TBG_measured TBG\n",
              "0  hypothyroid  72   M            f  ...            y  10            n   ?\n",
              "1  hypothyroid  15   F            t  ...            y  17            n   ?\n",
              "2  hypothyroid  24   M            f  ...            y   0            n   ?\n",
              "3  hypothyroid  24   F            f  ...            y   6            n   ?\n",
              "4  hypothyroid  77   M            f  ...            y  44            n   ?\n",
              "\n",
              "[5 rows x 26 columns]"
            ]
          },
          "execution_count": 5,
          "metadata": {},
          "output_type": "execute_result"
        }
      ]
    },
    {
      "cell_type": "code",
      "metadata": {
        "colab": {
          "base_uri": "https://localhost:8080/"
        },
        "id": "5GI9RywwU9FP",
        "outputId": "326e2bfe-824f-424b-b88a-25ec3e71960b"
      },
      "source": [
        "# previewing the bottom five records in our dataset\n",
        "\n",
        "ht.tail()"
      ],
      "execution_count": null,
      "outputs": [
        {
          "data": {
            "text/html": [
              "<div>\n",
              "<style scoped>\n",
              "    .dataframe tbody tr th:only-of-type {\n",
              "        vertical-align: middle;\n",
              "    }\n",
              "\n",
              "    .dataframe tbody tr th {\n",
              "        vertical-align: top;\n",
              "    }\n",
              "\n",
              "    .dataframe thead th {\n",
              "        text-align: right;\n",
              "    }\n",
              "</style>\n",
              "<table border=\"1\" class=\"dataframe\">\n",
              "  <thead>\n",
              "    <tr style=\"text-align: right;\">\n",
              "      <th></th>\n",
              "      <th>status</th>\n",
              "      <th>age</th>\n",
              "      <th>sex</th>\n",
              "      <th>on_thyroxine</th>\n",
              "      <th>query_on_thyroxine</th>\n",
              "      <th>on_antithyroid_medication</th>\n",
              "      <th>thyroid_surgery</th>\n",
              "      <th>query_hypothyroid</th>\n",
              "      <th>query_hyperthyroid</th>\n",
              "      <th>pregnant</th>\n",
              "      <th>sick</th>\n",
              "      <th>tumor</th>\n",
              "      <th>lithium</th>\n",
              "      <th>goitre</th>\n",
              "      <th>TSH_measured</th>\n",
              "      <th>TSH</th>\n",
              "      <th>T3_measured</th>\n",
              "      <th>T3</th>\n",
              "      <th>TT4_measured</th>\n",
              "      <th>TT4</th>\n",
              "      <th>T4U_measured</th>\n",
              "      <th>T4U</th>\n",
              "      <th>FTI_measured</th>\n",
              "      <th>FTI</th>\n",
              "      <th>TBG_measured</th>\n",
              "      <th>TBG</th>\n",
              "    </tr>\n",
              "  </thead>\n",
              "  <tbody>\n",
              "    <tr>\n",
              "      <th>3158</th>\n",
              "      <td>negative</td>\n",
              "      <td>58</td>\n",
              "      <td>F</td>\n",
              "      <td>f</td>\n",
              "      <td>f</td>\n",
              "      <td>f</td>\n",
              "      <td>f</td>\n",
              "      <td>f</td>\n",
              "      <td>f</td>\n",
              "      <td>f</td>\n",
              "      <td>f</td>\n",
              "      <td>f</td>\n",
              "      <td>f</td>\n",
              "      <td>f</td>\n",
              "      <td>y</td>\n",
              "      <td>5.8</td>\n",
              "      <td>y</td>\n",
              "      <td>1.7</td>\n",
              "      <td>y</td>\n",
              "      <td>86</td>\n",
              "      <td>y</td>\n",
              "      <td>0.91</td>\n",
              "      <td>y</td>\n",
              "      <td>95</td>\n",
              "      <td>n</td>\n",
              "      <td>?</td>\n",
              "    </tr>\n",
              "    <tr>\n",
              "      <th>3159</th>\n",
              "      <td>negative</td>\n",
              "      <td>29</td>\n",
              "      <td>F</td>\n",
              "      <td>f</td>\n",
              "      <td>f</td>\n",
              "      <td>f</td>\n",
              "      <td>f</td>\n",
              "      <td>f</td>\n",
              "      <td>f</td>\n",
              "      <td>f</td>\n",
              "      <td>f</td>\n",
              "      <td>f</td>\n",
              "      <td>f</td>\n",
              "      <td>f</td>\n",
              "      <td>y</td>\n",
              "      <td>0.8</td>\n",
              "      <td>y</td>\n",
              "      <td>1.8</td>\n",
              "      <td>y</td>\n",
              "      <td>99</td>\n",
              "      <td>y</td>\n",
              "      <td>1.01</td>\n",
              "      <td>y</td>\n",
              "      <td>98</td>\n",
              "      <td>n</td>\n",
              "      <td>?</td>\n",
              "    </tr>\n",
              "    <tr>\n",
              "      <th>3160</th>\n",
              "      <td>negative</td>\n",
              "      <td>77</td>\n",
              "      <td>M</td>\n",
              "      <td>f</td>\n",
              "      <td>f</td>\n",
              "      <td>f</td>\n",
              "      <td>f</td>\n",
              "      <td>f</td>\n",
              "      <td>f</td>\n",
              "      <td>f</td>\n",
              "      <td>f</td>\n",
              "      <td>f</td>\n",
              "      <td>f</td>\n",
              "      <td>f</td>\n",
              "      <td>y</td>\n",
              "      <td>1.2</td>\n",
              "      <td>y</td>\n",
              "      <td>0.6</td>\n",
              "      <td>y</td>\n",
              "      <td>71</td>\n",
              "      <td>y</td>\n",
              "      <td>0.68</td>\n",
              "      <td>y</td>\n",
              "      <td>104</td>\n",
              "      <td>n</td>\n",
              "      <td>?</td>\n",
              "    </tr>\n",
              "    <tr>\n",
              "      <th>3161</th>\n",
              "      <td>negative</td>\n",
              "      <td>74</td>\n",
              "      <td>F</td>\n",
              "      <td>f</td>\n",
              "      <td>f</td>\n",
              "      <td>f</td>\n",
              "      <td>f</td>\n",
              "      <td>f</td>\n",
              "      <td>f</td>\n",
              "      <td>f</td>\n",
              "      <td>f</td>\n",
              "      <td>f</td>\n",
              "      <td>f</td>\n",
              "      <td>f</td>\n",
              "      <td>y</td>\n",
              "      <td>1.3</td>\n",
              "      <td>y</td>\n",
              "      <td>0.1</td>\n",
              "      <td>y</td>\n",
              "      <td>65</td>\n",
              "      <td>y</td>\n",
              "      <td>0.48</td>\n",
              "      <td>y</td>\n",
              "      <td>137</td>\n",
              "      <td>n</td>\n",
              "      <td>?</td>\n",
              "    </tr>\n",
              "    <tr>\n",
              "      <th>3162</th>\n",
              "      <td>negative</td>\n",
              "      <td>56</td>\n",
              "      <td>F</td>\n",
              "      <td>t</td>\n",
              "      <td>f</td>\n",
              "      <td>f</td>\n",
              "      <td>f</td>\n",
              "      <td>f</td>\n",
              "      <td>f</td>\n",
              "      <td>f</td>\n",
              "      <td>f</td>\n",
              "      <td>f</td>\n",
              "      <td>f</td>\n",
              "      <td>f</td>\n",
              "      <td>y</td>\n",
              "      <td>0</td>\n",
              "      <td>y</td>\n",
              "      <td>1.8</td>\n",
              "      <td>y</td>\n",
              "      <td>139</td>\n",
              "      <td>y</td>\n",
              "      <td>0.97</td>\n",
              "      <td>y</td>\n",
              "      <td>143</td>\n",
              "      <td>n</td>\n",
              "      <td>?</td>\n",
              "    </tr>\n",
              "  </tbody>\n",
              "</table>\n",
              "</div>"
            ],
            "text/plain": [
              "        status age sex on_thyroxine  ... FTI_measured  FTI TBG_measured TBG\n",
              "3158  negative  58   F            f  ...            y   95            n   ?\n",
              "3159  negative  29   F            f  ...            y   98            n   ?\n",
              "3160  negative  77   M            f  ...            y  104            n   ?\n",
              "3161  negative  74   F            f  ...            y  137            n   ?\n",
              "3162  negative  56   F            t  ...            y  143            n   ?\n",
              "\n",
              "[5 rows x 26 columns]"
            ]
          },
          "execution_count": 6,
          "metadata": {},
          "output_type": "execute_result"
        }
      ]
    },
    {
      "cell_type": "code",
      "metadata": {
        "colab": {
          "base_uri": "https://localhost:8080/"
        },
        "id": "5afXTRUi7Ixn",
        "outputId": "333aa6bd-ab11-47b6-a6be-d6f3820bd981"
      },
      "source": [
        "# checking for the data types of the columns in the dataset\n",
        "\n",
        "ht.dtypes"
      ],
      "execution_count": null,
      "outputs": [
        {
          "data": {
            "text/plain": [
              "status                       object\n",
              "age                          object\n",
              "sex                          object\n",
              "on_thyroxine                 object\n",
              "query_on_thyroxine           object\n",
              "on_antithyroid_medication    object\n",
              "thyroid_surgery              object\n",
              "query_hypothyroid            object\n",
              "query_hyperthyroid           object\n",
              "pregnant                     object\n",
              "sick                         object\n",
              "tumor                        object\n",
              "lithium                      object\n",
              "goitre                       object\n",
              "TSH_measured                 object\n",
              "TSH                          object\n",
              "T3_measured                  object\n",
              "T3                           object\n",
              "TT4_measured                 object\n",
              "TT4                          object\n",
              "T4U_measured                 object\n",
              "T4U                          object\n",
              "FTI_measured                 object\n",
              "FTI                          object\n",
              "TBG_measured                 object\n",
              "TBG                          object\n",
              "dtype: object"
            ]
          },
          "execution_count": 7,
          "metadata": {},
          "output_type": "execute_result"
        }
      ]
    },
    {
      "cell_type": "markdown",
      "metadata": {
        "id": "6zWa5h5275nY"
      },
      "source": [
        "All the columns are listed as objects. A few columns will need their data types adjusted. "
      ]
    },
    {
      "cell_type": "markdown",
      "metadata": {
        "id": "pDL8IzOP8is-"
      },
      "source": [
        "### Tidying the dataset"
      ]
    },
    {
      "cell_type": "code",
      "metadata": {
        "colab": {
          "base_uri": "https://localhost:8080/"
        },
        "id": "UzOlNEN1Q2wV",
        "outputId": "56ee0b89-b0be-4ead-ebf3-098c0af1bc4b"
      },
      "source": [
        "# checking for duplicates\n",
        "\n",
        "ht.duplicated().any()"
      ],
      "execution_count": null,
      "outputs": [
        {
          "data": {
            "text/plain": [
              "True"
            ]
          },
          "execution_count": 8,
          "metadata": {},
          "output_type": "execute_result"
        }
      ]
    },
    {
      "cell_type": "code",
      "metadata": {
        "colab": {
          "base_uri": "https://localhost:8080/"
        },
        "id": "IExbegVYRBat",
        "outputId": "9ad7a547-f688-407e-b303-aa2eda730be4"
      },
      "source": [
        "ht.drop_duplicates(inplace=True)\n",
        "ht.duplicated().any()"
      ],
      "execution_count": null,
      "outputs": [
        {
          "data": {
            "text/plain": [
              "False"
            ]
          },
          "execution_count": 9,
          "metadata": {},
          "output_type": "execute_result"
        }
      ]
    },
    {
      "cell_type": "markdown",
      "metadata": {
        "id": "PZ4DNhAyNGkU"
      },
      "source": [
        "The categorical variables in my dataset need to be hot encoded, this way my analysis will be smoother."
      ]
    },
    {
      "cell_type": "code",
      "metadata": {
        "id": "-phJfnLPMZCG"
      },
      "source": [
        "# creating a function for hot encoding my categorical columns\n",
        "\n",
        "def label_encoder(old,new):\n",
        "  ht.replace(to_replace=old, value=new, inplace=True)\n",
        "\n",
        "\n",
        "label_encoder('f','0')\n",
        "label_encoder('t','1')\n",
        "\n",
        "label_encoder('hypothyroid','1')\n",
        "label_encoder('negative', '0')\n",
        "\n",
        "label_encoder('y', '1')\n",
        "label_encoder('n', '0')\n",
        "\n",
        "label_encoder('F', '1')\n",
        "label_encoder('M', '0')"
      ],
      "execution_count": null,
      "outputs": []
    },
    {
      "cell_type": "markdown",
      "metadata": {
        "id": "YcHc_b2dLfuX"
      },
      "source": [
        "#### Dealing with missing values"
      ]
    },
    {
      "cell_type": "code",
      "metadata": {
        "colab": {
          "base_uri": "https://localhost:8080/"
        },
        "id": "5j2nPhp68mhW",
        "outputId": "a8e48cb6-c758-48a2-8b38-e9b49e6a8974"
      },
      "source": [
        "# checking for missing values\n",
        "\n",
        "ht.isnull().any()"
      ],
      "execution_count": null,
      "outputs": [
        {
          "data": {
            "text/plain": [
              "status                       False\n",
              "age                          False\n",
              "sex                          False\n",
              "on_thyroxine                 False\n",
              "query_on_thyroxine           False\n",
              "on_antithyroid_medication    False\n",
              "thyroid_surgery              False\n",
              "query_hypothyroid            False\n",
              "query_hyperthyroid           False\n",
              "pregnant                     False\n",
              "sick                         False\n",
              "tumor                        False\n",
              "lithium                      False\n",
              "goitre                       False\n",
              "TSH_measured                 False\n",
              "TSH                          False\n",
              "T3_measured                  False\n",
              "T3                           False\n",
              "TT4_measured                 False\n",
              "TT4                          False\n",
              "T4U_measured                 False\n",
              "T4U                          False\n",
              "FTI_measured                 False\n",
              "FTI                          False\n",
              "TBG_measured                 False\n",
              "TBG                          False\n",
              "dtype: bool"
            ]
          },
          "execution_count": 11,
          "metadata": {},
          "output_type": "execute_result"
        }
      ]
    },
    {
      "cell_type": "markdown",
      "metadata": {
        "id": "hB29clWO8uJW"
      },
      "source": [
        "Despite the output displaying that there are no missing values, the dataset has a number of its values as a question mark indicating that no value was recorded. The ? value needs to be turned into a null value and the missing values computed once more."
      ]
    },
    {
      "cell_type": "code",
      "metadata": {
        "id": "mPbxMeXW9jS1"
      },
      "source": [
        "# replacing '1000' with null\n",
        "\n",
        "ht.replace({'?':None}, inplace=True)"
      ],
      "execution_count": null,
      "outputs": []
    },
    {
      "cell_type": "code",
      "metadata": {
        "colab": {
          "base_uri": "https://localhost:8080/"
        },
        "id": "JMA-on5o91Km",
        "outputId": "5ac127a6-e048-41a6-bbbc-0a07d0883436"
      },
      "source": [
        "# creating a dataframe with the number of missing values for each column\n",
        "\n",
        "missing =pd.DataFrame(ht.isnull().sum(), columns=['nulls'])\n",
        "missing =missing.reset_index()\n",
        "\n",
        "# computing the percentage of values missing for each column\n",
        "missing['percentage'] = (missing['nulls']/ ht.shape[0])\n",
        "missing.sort_values(by=['percentage'], ascending=False)"
      ],
      "execution_count": null,
      "outputs": [
        {
          "data": {
            "text/html": [
              "<div>\n",
              "<style scoped>\n",
              "    .dataframe tbody tr th:only-of-type {\n",
              "        vertical-align: middle;\n",
              "    }\n",
              "\n",
              "    .dataframe tbody tr th {\n",
              "        vertical-align: top;\n",
              "    }\n",
              "\n",
              "    .dataframe thead th {\n",
              "        text-align: right;\n",
              "    }\n",
              "</style>\n",
              "<table border=\"1\" class=\"dataframe\">\n",
              "  <thead>\n",
              "    <tr style=\"text-align: right;\">\n",
              "      <th></th>\n",
              "      <th>index</th>\n",
              "      <th>nulls</th>\n",
              "      <th>percentage</th>\n",
              "    </tr>\n",
              "  </thead>\n",
              "  <tbody>\n",
              "    <tr>\n",
              "      <th>25</th>\n",
              "      <td>TBG</td>\n",
              "      <td>2835</td>\n",
              "      <td>0.918665</td>\n",
              "    </tr>\n",
              "    <tr>\n",
              "      <th>17</th>\n",
              "      <td>T3</td>\n",
              "      <td>680</td>\n",
              "      <td>0.220350</td>\n",
              "    </tr>\n",
              "    <tr>\n",
              "      <th>15</th>\n",
              "      <td>TSH</td>\n",
              "      <td>455</td>\n",
              "      <td>0.147440</td>\n",
              "    </tr>\n",
              "    <tr>\n",
              "      <th>1</th>\n",
              "      <td>age</td>\n",
              "      <td>438</td>\n",
              "      <td>0.141931</td>\n",
              "    </tr>\n",
              "    <tr>\n",
              "      <th>19</th>\n",
              "      <td>TT4</td>\n",
              "      <td>240</td>\n",
              "      <td>0.077771</td>\n",
              "    </tr>\n",
              "    <tr>\n",
              "      <th>21</th>\n",
              "      <td>T4U</td>\n",
              "      <td>239</td>\n",
              "      <td>0.077447</td>\n",
              "    </tr>\n",
              "    <tr>\n",
              "      <th>23</th>\n",
              "      <td>FTI</td>\n",
              "      <td>238</td>\n",
              "      <td>0.077122</td>\n",
              "    </tr>\n",
              "    <tr>\n",
              "      <th>2</th>\n",
              "      <td>sex</td>\n",
              "      <td>73</td>\n",
              "      <td>0.023655</td>\n",
              "    </tr>\n",
              "    <tr>\n",
              "      <th>14</th>\n",
              "      <td>TSH_measured</td>\n",
              "      <td>0</td>\n",
              "      <td>0.000000</td>\n",
              "    </tr>\n",
              "    <tr>\n",
              "      <th>24</th>\n",
              "      <td>TBG_measured</td>\n",
              "      <td>0</td>\n",
              "      <td>0.000000</td>\n",
              "    </tr>\n",
              "    <tr>\n",
              "      <th>22</th>\n",
              "      <td>FTI_measured</td>\n",
              "      <td>0</td>\n",
              "      <td>0.000000</td>\n",
              "    </tr>\n",
              "    <tr>\n",
              "      <th>20</th>\n",
              "      <td>T4U_measured</td>\n",
              "      <td>0</td>\n",
              "      <td>0.000000</td>\n",
              "    </tr>\n",
              "    <tr>\n",
              "      <th>18</th>\n",
              "      <td>TT4_measured</td>\n",
              "      <td>0</td>\n",
              "      <td>0.000000</td>\n",
              "    </tr>\n",
              "    <tr>\n",
              "      <th>16</th>\n",
              "      <td>T3_measured</td>\n",
              "      <td>0</td>\n",
              "      <td>0.000000</td>\n",
              "    </tr>\n",
              "    <tr>\n",
              "      <th>0</th>\n",
              "      <td>status</td>\n",
              "      <td>0</td>\n",
              "      <td>0.000000</td>\n",
              "    </tr>\n",
              "    <tr>\n",
              "      <th>12</th>\n",
              "      <td>lithium</td>\n",
              "      <td>0</td>\n",
              "      <td>0.000000</td>\n",
              "    </tr>\n",
              "    <tr>\n",
              "      <th>11</th>\n",
              "      <td>tumor</td>\n",
              "      <td>0</td>\n",
              "      <td>0.000000</td>\n",
              "    </tr>\n",
              "    <tr>\n",
              "      <th>10</th>\n",
              "      <td>sick</td>\n",
              "      <td>0</td>\n",
              "      <td>0.000000</td>\n",
              "    </tr>\n",
              "    <tr>\n",
              "      <th>9</th>\n",
              "      <td>pregnant</td>\n",
              "      <td>0</td>\n",
              "      <td>0.000000</td>\n",
              "    </tr>\n",
              "    <tr>\n",
              "      <th>8</th>\n",
              "      <td>query_hyperthyroid</td>\n",
              "      <td>0</td>\n",
              "      <td>0.000000</td>\n",
              "    </tr>\n",
              "    <tr>\n",
              "      <th>7</th>\n",
              "      <td>query_hypothyroid</td>\n",
              "      <td>0</td>\n",
              "      <td>0.000000</td>\n",
              "    </tr>\n",
              "    <tr>\n",
              "      <th>6</th>\n",
              "      <td>thyroid_surgery</td>\n",
              "      <td>0</td>\n",
              "      <td>0.000000</td>\n",
              "    </tr>\n",
              "    <tr>\n",
              "      <th>5</th>\n",
              "      <td>on_antithyroid_medication</td>\n",
              "      <td>0</td>\n",
              "      <td>0.000000</td>\n",
              "    </tr>\n",
              "    <tr>\n",
              "      <th>4</th>\n",
              "      <td>query_on_thyroxine</td>\n",
              "      <td>0</td>\n",
              "      <td>0.000000</td>\n",
              "    </tr>\n",
              "    <tr>\n",
              "      <th>3</th>\n",
              "      <td>on_thyroxine</td>\n",
              "      <td>0</td>\n",
              "      <td>0.000000</td>\n",
              "    </tr>\n",
              "    <tr>\n",
              "      <th>13</th>\n",
              "      <td>goitre</td>\n",
              "      <td>0</td>\n",
              "      <td>0.000000</td>\n",
              "    </tr>\n",
              "  </tbody>\n",
              "</table>\n",
              "</div>"
            ],
            "text/plain": [
              "                        index  nulls  percentage\n",
              "25                        TBG   2835    0.918665\n",
              "17                         T3    680    0.220350\n",
              "15                        TSH    455    0.147440\n",
              "1                         age    438    0.141931\n",
              "19                        TT4    240    0.077771\n",
              "21                        T4U    239    0.077447\n",
              "23                        FTI    238    0.077122\n",
              "2                         sex     73    0.023655\n",
              "14               TSH_measured      0    0.000000\n",
              "24               TBG_measured      0    0.000000\n",
              "22               FTI_measured      0    0.000000\n",
              "20               T4U_measured      0    0.000000\n",
              "18               TT4_measured      0    0.000000\n",
              "16                T3_measured      0    0.000000\n",
              "0                      status      0    0.000000\n",
              "12                    lithium      0    0.000000\n",
              "11                      tumor      0    0.000000\n",
              "10                       sick      0    0.000000\n",
              "9                    pregnant      0    0.000000\n",
              "8          query_hyperthyroid      0    0.000000\n",
              "7           query_hypothyroid      0    0.000000\n",
              "6             thyroid_surgery      0    0.000000\n",
              "5   on_antithyroid_medication      0    0.000000\n",
              "4          query_on_thyroxine      0    0.000000\n",
              "3                on_thyroxine      0    0.000000\n",
              "13                     goitre      0    0.000000"
            ]
          },
          "execution_count": 13,
          "metadata": {},
          "output_type": "execute_result"
        }
      ]
    },
    {
      "cell_type": "markdown",
      "metadata": {
        "id": "I4T4xO1-Fn7r"
      },
      "source": [
        "TBG column has 91% of its values missing, it will have to be dropped. The column TBG measured will also have to be dropped.\n",
        "The T3 column has the second highest percentage of missing values, 22%. I suspect that these null values result from the patients that did not undergo a T3 test. If this is the case I can safely drop those columns.This is because,  to correctly gauge the factors that will help diagnose hypothyroidism, I need the records of patients that underwent a majority of the tests."
      ]
    },
    {
      "cell_type": "code",
      "metadata": {
        "id": "vUsy5a7wW8h2"
      },
      "source": [
        "# dropping unnecessary columns \n",
        "\n",
        "ht.drop(['TBG', 'TBG_measured'], axis=1, inplace=True)"
      ],
      "execution_count": null,
      "outputs": []
    },
    {
      "cell_type": "code",
      "metadata": {
        "colab": {
          "base_uri": "https://localhost:8080/"
        },
        "id": "boOmdpn4_6GY",
        "outputId": "b0058c89-2a29-4794-ad7e-cc0100d559d8"
      },
      "source": [
        "# creating a dataframe with only patients that did not undergo the T3 test\n",
        "no = ht[ht['T3_measured']== '0']\n",
        "print(no.shape)\n",
        "\n",
        "# displaying the number of null values in this dataframe\n",
        "print(no.isnull().sum())"
      ],
      "execution_count": null,
      "outputs": [
        {
          "name": "stdout",
          "output_type": "stream",
          "text": [
            "(680, 24)\n",
            "status                         0\n",
            "age                           56\n",
            "sex                           12\n",
            "on_thyroxine                   0\n",
            "query_on_thyroxine             0\n",
            "on_antithyroid_medication      0\n",
            "thyroid_surgery                0\n",
            "query_hypothyroid              0\n",
            "query_hyperthyroid             0\n",
            "pregnant                       0\n",
            "sick                           0\n",
            "tumor                          0\n",
            "lithium                        0\n",
            "goitre                         0\n",
            "TSH_measured                   0\n",
            "TSH                          389\n",
            "T3_measured                    0\n",
            "T3                           680\n",
            "TT4_measured                   0\n",
            "TT4                          239\n",
            "T4U_measured                   0\n",
            "T4U                          238\n",
            "FTI_measured                   0\n",
            "FTI                          237\n",
            "dtype: int64\n"
          ]
        }
      ]
    },
    {
      "cell_type": "markdown",
      "metadata": {
        "id": "b5olwDFBIINI"
      },
      "source": [
        "This dataframe has 680 records, and the T3 column has 680 missing values.My suspicions are confirmed. A majority of the patients in this dataframe also appear to have not been tested for FTI, T4U AND TT4. The records in this dataframe are to be dropped from the main dataframe."
      ]
    },
    {
      "cell_type": "code",
      "metadata": {
        "colab": {
          "base_uri": "https://localhost:8080/"
        },
        "id": "u-3EziG4KObK",
        "outputId": "008c13c7-0cd4-4b10-c188-8a02463f369d"
      },
      "source": [
        "# displaying the number of missing values after dropping of records of patients that did not undergo the T3 test\n",
        "\n",
        "data = ht[~(ht['T3_measured']=='0')]\n",
        "data.isnull().sum()"
      ],
      "execution_count": null,
      "outputs": [
        {
          "data": {
            "text/plain": [
              "status                         0\n",
              "age                          382\n",
              "sex                           61\n",
              "on_thyroxine                   0\n",
              "query_on_thyroxine             0\n",
              "on_antithyroid_medication      0\n",
              "thyroid_surgery                0\n",
              "query_hypothyroid              0\n",
              "query_hyperthyroid             0\n",
              "pregnant                       0\n",
              "sick                           0\n",
              "tumor                          0\n",
              "lithium                        0\n",
              "goitre                         0\n",
              "TSH_measured                   0\n",
              "TSH                           66\n",
              "T3_measured                    0\n",
              "T3                             0\n",
              "TT4_measured                   0\n",
              "TT4                            1\n",
              "T4U_measured                   0\n",
              "T4U                            1\n",
              "FTI_measured                   0\n",
              "FTI                            1\n",
              "dtype: int64"
            ]
          },
          "execution_count": 16,
          "metadata": {},
          "output_type": "execute_result"
        }
      ]
    },
    {
      "cell_type": "markdown",
      "metadata": {
        "id": "SovS15RBL_d3"
      },
      "source": [
        "The number of null values has been greatly reduced. FTI, T4U AND TT4 each have one record with a null value, these values can be dropped. TSH also has a numbe r of records with null values. "
      ]
    },
    {
      "cell_type": "code",
      "metadata": {
        "colab": {
          "base_uri": "https://localhost:8080/"
        },
        "id": "cPKKbVQZNEYH",
        "outputId": "321c3aa7-c6f0-4fe2-b0c1-efefff2e3f57"
      },
      "source": [
        "# dropping records with three or more missing values.\n",
        "# if the record with missing values in the FTI, TT4 and T4U tests is the same one it will be dropped.\n",
        "\n",
        "data.dropna(thresh=3, inplace=True)"
      ],
      "execution_count": null,
      "outputs": [
        {
          "name": "stderr",
          "output_type": "stream",
          "text": [
            "/usr/local/lib/python3.7/dist-packages/ipykernel_launcher.py:4: SettingWithCopyWarning: \n",
            "A value is trying to be set on a copy of a slice from a DataFrame\n",
            "\n",
            "See the caveats in the documentation: https://pandas.pydata.org/pandas-docs/stable/user_guide/indexing.html#returning-a-view-versus-a-copy\n",
            "  after removing the cwd from sys.path.\n"
          ]
        }
      ]
    },
    {
      "cell_type": "code",
      "metadata": {
        "colab": {
          "base_uri": "https://localhost:8080/"
        },
        "id": "PIyRCpWFN6uv",
        "outputId": "dda9ecf4-c059-410d-e770-96874e080576"
      },
      "source": [
        "data.isnull().sum()"
      ],
      "execution_count": null,
      "outputs": [
        {
          "data": {
            "text/plain": [
              "status                         0\n",
              "age                          382\n",
              "sex                           61\n",
              "on_thyroxine                   0\n",
              "query_on_thyroxine             0\n",
              "on_antithyroid_medication      0\n",
              "thyroid_surgery                0\n",
              "query_hypothyroid              0\n",
              "query_hyperthyroid             0\n",
              "pregnant                       0\n",
              "sick                           0\n",
              "tumor                          0\n",
              "lithium                        0\n",
              "goitre                         0\n",
              "TSH_measured                   0\n",
              "TSH                           66\n",
              "T3_measured                    0\n",
              "T3                             0\n",
              "TT4_measured                   0\n",
              "TT4                            1\n",
              "T4U_measured                   0\n",
              "T4U                            1\n",
              "FTI_measured                   0\n",
              "FTI                            1\n",
              "dtype: int64"
            ]
          },
          "execution_count": 18,
          "metadata": {},
          "output_type": "execute_result"
        }
      ]
    },
    {
      "cell_type": "markdown",
      "metadata": {
        "id": "9cl9Gwl6OCQQ"
      },
      "source": [
        "It appears there are no records with 3 or more variables with missing values."
      ]
    },
    {
      "cell_type": "code",
      "metadata": {
        "colab": {
          "base_uri": "https://localhost:8080/"
        },
        "id": "1VdhSC45K2Ui",
        "outputId": "8eadcd2e-01c8-4809-d98c-a6220a763406"
      },
      "source": [
        "data = data[~(data['TSH_measured']=='0')]\n",
        "data.isnull().sum()"
      ],
      "execution_count": null,
      "outputs": [
        {
          "data": {
            "text/plain": [
              "status                         0\n",
              "age                          382\n",
              "sex                           60\n",
              "on_thyroxine                   0\n",
              "query_on_thyroxine             0\n",
              "on_antithyroid_medication      0\n",
              "thyroid_surgery                0\n",
              "query_hypothyroid              0\n",
              "query_hyperthyroid             0\n",
              "pregnant                       0\n",
              "sick                           0\n",
              "tumor                          0\n",
              "lithium                        0\n",
              "goitre                         0\n",
              "TSH_measured                   0\n",
              "TSH                            0\n",
              "T3_measured                    0\n",
              "T3                             0\n",
              "TT4_measured                   0\n",
              "TT4                            1\n",
              "T4U_measured                   0\n",
              "T4U                            1\n",
              "FTI_measured                   0\n",
              "FTI                            1\n",
              "dtype: int64"
            ]
          },
          "execution_count": 19,
          "metadata": {},
          "output_type": "execute_result"
        }
      ]
    },
    {
      "cell_type": "code",
      "metadata": {
        "id": "dOU5UVXPP_QY"
      },
      "source": [
        "# converting my columns to float and int type data types\n",
        "# the categorical encoded variables will be converted to int while the tests' results columns will be converted to float\n",
        "\n",
        "# defining a function for converting my data types to numeric\n",
        "\n",
        "def convert_num(df,col):\n",
        "  df[col] = pd.to_numeric(df[col])\n",
        "  "
      ],
      "execution_count": null,
      "outputs": []
    },
    {
      "cell_type": "code",
      "metadata": {
        "id": "JuSByOlvUVpo"
      },
      "source": [
        "# running a for loop for converting the column data types\n",
        "for col in data.columns:\n",
        "  convert_num(data,f'{col}')"
      ],
      "execution_count": null,
      "outputs": []
    },
    {
      "cell_type": "code",
      "metadata": {
        "colab": {
          "base_uri": "https://localhost:8080/"
        },
        "id": "QNl07m-QhiEX",
        "outputId": "6e44f7de-30cc-43ca-8ca4-8ea30281cb7d"
      },
      "source": [
        "data.dtypes"
      ],
      "execution_count": null,
      "outputs": [
        {
          "data": {
            "text/plain": [
              "status                         int64\n",
              "age                          float64\n",
              "sex                          float64\n",
              "on_thyroxine                   int64\n",
              "query_on_thyroxine             int64\n",
              "on_antithyroid_medication      int64\n",
              "thyroid_surgery                int64\n",
              "query_hypothyroid              int64\n",
              "query_hyperthyroid             int64\n",
              "pregnant                       int64\n",
              "sick                           int64\n",
              "tumor                          int64\n",
              "lithium                        int64\n",
              "goitre                         int64\n",
              "TSH_measured                   int64\n",
              "TSH                          float64\n",
              "T3_measured                    int64\n",
              "T3                           float64\n",
              "TT4_measured                   int64\n",
              "TT4                          float64\n",
              "T4U_measured                   int64\n",
              "T4U                          float64\n",
              "FTI_measured                   int64\n",
              "FTI                          float64\n",
              "dtype: object"
            ]
          },
          "execution_count": 22,
          "metadata": {},
          "output_type": "execute_result"
        }
      ]
    },
    {
      "cell_type": "code",
      "metadata": {
        "id": "cYUGSXlMQg5o"
      },
      "source": [
        "# computing the mean for age, all missing values in this column will be filled with the mean age of the patients.\n",
        "mean_age =data['age'].mean()\n",
        "data['age'].fillna(mean_age, inplace=True)"
      ],
      "execution_count": null,
      "outputs": []
    },
    {
      "cell_type": "code",
      "metadata": {
        "colab": {
          "base_uri": "https://localhost:8080/"
        },
        "id": "1o2n8zSvWMX0",
        "outputId": "ba33a736-79e9-4eb7-83d6-5467e690cff1"
      },
      "source": [
        "data.isnull().sum()"
      ],
      "execution_count": null,
      "outputs": [
        {
          "data": {
            "text/plain": [
              "status                        0\n",
              "age                           0\n",
              "sex                          60\n",
              "on_thyroxine                  0\n",
              "query_on_thyroxine            0\n",
              "on_antithyroid_medication     0\n",
              "thyroid_surgery               0\n",
              "query_hypothyroid             0\n",
              "query_hyperthyroid            0\n",
              "pregnant                      0\n",
              "sick                          0\n",
              "tumor                         0\n",
              "lithium                       0\n",
              "goitre                        0\n",
              "TSH_measured                  0\n",
              "TSH                           0\n",
              "T3_measured                   0\n",
              "T3                            0\n",
              "TT4_measured                  0\n",
              "TT4                           1\n",
              "T4U_measured                  0\n",
              "T4U                           1\n",
              "FTI_measured                  0\n",
              "FTI                           1\n",
              "dtype: int64"
            ]
          },
          "execution_count": 24,
          "metadata": {},
          "output_type": "execute_result"
        }
      ]
    },
    {
      "cell_type": "code",
      "metadata": {
        "id": "0To87eVXW2NE"
      },
      "source": [
        "# dropping the rest of the records with missing values\n",
        "\n",
        "data.dropna(axis=0,how='any', inplace=True)"
      ],
      "execution_count": null,
      "outputs": []
    },
    {
      "cell_type": "code",
      "metadata": {
        "colab": {
          "base_uri": "https://localhost:8080/"
        },
        "id": "Pbc0qJXPXz-K",
        "outputId": "f3dfd0f4-49c9-4e47-9a01-17ef66768ad1"
      },
      "source": [
        "print(data.isnull().any().any(),'\\n')\n"
      ],
      "execution_count": null,
      "outputs": [
        {
          "name": "stdout",
          "output_type": "stream",
          "text": [
            "False \n",
            "\n"
          ]
        }
      ]
    },
    {
      "cell_type": "markdown",
      "metadata": {
        "id": "5ZsR2vQ5X8uy"
      },
      "source": [
        "All the null values have been dealt with. This means that the values in the whether a test was undertaken,i.e the measured columns, a likely to only be yeses.\n",
        "These columns will therefore not be of much use to us."
      ]
    },
    {
      "cell_type": "code",
      "metadata": {
        "colab": {
          "base_uri": "https://localhost:8080/"
        },
        "id": "FAByRNpxVXEB",
        "outputId": "77b4e28c-6f16-460c-8f42-3f3295ff7988"
      },
      "source": [
        "print(data['TSH_measured'].unique())\n",
        "print(data['T4U_measured'].unique())\n",
        "print(data['TT4_measured'].unique())\n",
        "print(data['FTI_measured'].unique())\n",
        "print(data['T3_measured'].unique())"
      ],
      "execution_count": null,
      "outputs": [
        {
          "name": "stdout",
          "output_type": "stream",
          "text": [
            "[1]\n",
            "[1]\n",
            "[1]\n",
            "[1]\n",
            "[1]\n"
          ]
        }
      ]
    },
    {
      "cell_type": "code",
      "metadata": {
        "colab": {
          "base_uri": "https://localhost:8080/"
        },
        "id": "1Iu811AxW2Km",
        "outputId": "1662c353-7983-4940-d0e1-ab804b752c19"
      },
      "source": [
        "# dropping the measured columns\n",
        "\n",
        "data.drop(['TSH_measured','T4U_measured','TT4_measured','FTI_measured','T3_measured'], axis=1, inplace=True)\n",
        "print('The dataset after cleaning has',data.shape[0],'rows and',data.shape[1],'columns.')"
      ],
      "execution_count": null,
      "outputs": [
        {
          "name": "stdout",
          "output_type": "stream",
          "text": [
            "The dataset after cleaning has 2279 rows and 19 columns.\n"
          ]
        }
      ]
    },
    {
      "cell_type": "code",
      "metadata": {
        "colab": {
          "base_uri": "https://localhost:8080/"
        },
        "id": "EYTy0VR7Y6mg",
        "outputId": "fac0b88f-35d9-4aad-ad24-99fb1d477bd6"
      },
      "source": [
        "data.dtypes"
      ],
      "execution_count": null,
      "outputs": [
        {
          "data": {
            "text/plain": [
              "status                         int64\n",
              "age                          float64\n",
              "sex                          float64\n",
              "on_thyroxine                   int64\n",
              "query_on_thyroxine             int64\n",
              "on_antithyroid_medication      int64\n",
              "thyroid_surgery                int64\n",
              "query_hypothyroid              int64\n",
              "query_hyperthyroid             int64\n",
              "pregnant                       int64\n",
              "sick                           int64\n",
              "tumor                          int64\n",
              "lithium                        int64\n",
              "goitre                         int64\n",
              "TSH                          float64\n",
              "T3                           float64\n",
              "TT4                          float64\n",
              "T4U                          float64\n",
              "FTI                          float64\n",
              "dtype: object"
            ]
          },
          "execution_count": 29,
          "metadata": {},
          "output_type": "execute_result"
        }
      ]
    },
    {
      "cell_type": "markdown",
      "metadata": {
        "id": "bxHZbQMFY5Ef"
      },
      "source": [
        "## Exploratory Data Analysis"
      ]
    },
    {
      "cell_type": "markdown",
      "metadata": {
        "id": "fNUuu_SVY2JA"
      },
      "source": [
        "### Univariate analysis"
      ]
    },
    {
      "cell_type": "code",
      "metadata": {
        "colab": {
          "base_uri": "https://localhost:8080/"
        },
        "id": "EuUv7wrfY8sJ",
        "outputId": "61f53f27-c180-4bb4-a0b9-0fd4766d04ae"
      },
      "source": [
        "# plotting the total number of patients having tested positve and negative for hypothyroidism.\n",
        "\n",
        "patients =pd.DataFrame(data['status'].value_counts())\n",
        "\n",
        "patients.reset_index(inplace=True)\n",
        "\n",
        "sns.barplot(x=patients['index'], y=patients['status'], palette='cool_r')"
      ],
      "execution_count": null,
      "outputs": [
        {
          "data": {
            "text/plain": [
              "<matplotlib.axes._subplots.AxesSubplot at 0x7fcab8510c10>"
            ]
          },
          "execution_count": 30,
          "metadata": {},
          "output_type": "execute_result"
        },
        {
          "data": {
            "image/png": "[encoded data removed]",
            "text/plain": [
              "<Figure size 720x576 with 1 Axes>"
            ]
          },
          "metadata": {},
          "output_type": "display_data"
        }
      ]
    },
    {
      "cell_type": "markdown",
      "metadata": {
        "id": "r-INiKy5vQmO"
      },
      "source": [
        "A majority of the patients have received a negative diagnosis, only about 130 patients in the data have been diagnosed positive for hypothyroidism."
      ]
    },
    {
      "cell_type": "code",
      "metadata": {
        "colab": {
          "base_uri": "https://localhost:8080/"
        },
        "id": "1DSFajBSZ1Y1",
        "outputId": "8706655b-26a8-451d-9f57-46fa8286daa1"
      },
      "source": [
        "# plotting the age of the patients distribution for negatively and positively diagnosed patients\n",
        "\n",
        "pos =data[data['status']==1]\n",
        "neg =data[data['status']==0]\n",
        "\n",
        "plt.figure(figsize=(10,10))\n",
        "plt.subplot(2,2,1)\n",
        "plt.title('Age distribution for positively diagnosed patients')\n",
        "sns.boxplot(pos['age'], color='#6331FF')\n",
        "plt.subplot(2,2,3)\n",
        "plt.title('Age distribution for negatively diagnosed patients')\n",
        "sns.boxplot(neg['age'], color='#6331FF')"
      ],
      "execution_count": null,
      "outputs": [
        {
          "name": "stderr",
          "output_type": "stream",
          "text": [
            "/usr/local/lib/python3.7/dist-packages/seaborn/_decorators.py:43: FutureWarning: Pass the following variable as a keyword arg: x. From version 0.12, the only valid positional argument will be `data`, and passing other arguments without an explicit keyword will result in an error or misinterpretation.\n",
            "  FutureWarning\n",
            "/usr/local/lib/python3.7/dist-packages/seaborn/_decorators.py:43: FutureWarning: Pass the following variable as a keyword arg: x. From version 0.12, the only valid positional argument will be `data`, and passing other arguments without an explicit keyword will result in an error or misinterpretation.\n",
            "  FutureWarning\n"
          ]
        },
        {
          "data": {
            "text/plain": [
              "<matplotlib.axes._subplots.AxesSubplot at 0x7fcab844ba10>"
            ]
          },
          "execution_count": 31,
          "metadata": {},
          "output_type": "execute_result"
        },
        {
          "data": {
            "image/png": "[encoded data removed]",
            "text/plain": [
              "<Figure size 720x720 with 2 Axes>"
            ]
          },
          "metadata": {},
          "output_type": "display_data"
        }
      ]
    },
    {
      "cell_type": "markdown",
      "metadata": {
        "id": "SV9HnWPwP4zw"
      },
      "source": [
        "The mean age for the positively diagnosed patient is larger than that of the negatively diagnosed patients, however the difference isn't very large."
      ]
    },
    {
      "cell_type": "code",
      "metadata": {
        "colab": {
          "base_uri": "https://localhost:8080/"
        },
        "id": "tqbplGsG2pvg",
        "outputId": "2a0c021c-2dec-49bc-8f9c-9842aca81b00"
      },
      "source": [
        "# plotting the sexes count for the patients\n",
        "\n",
        "sex =pd.DataFrame(data['sex'].value_counts())\n",
        "\n",
        "sex.reset_index(inplace=True)\n",
        "\n",
        "sns.barplot(x=sex['index'], y=sex['sex'], palette='cool_r')\n"
      ],
      "execution_count": null,
      "outputs": [
        {
          "data": {
            "text/plain": [
              "<matplotlib.axes._subplots.AxesSubplot at 0x7fcab8497b90>"
            ]
          },
          "execution_count": 32,
          "metadata": {},
          "output_type": "execute_result"
        },
        {
          "data": {
            "image/png": "[encoded data removed]",
            "text/plain": [
              "<Figure size 720x576 with 1 Axes>"
            ]
          },
          "metadata": {},
          "output_type": "display_data"
        }
      ]
    },
    {
      "cell_type": "markdown",
      "metadata": {
        "id": "HPFm8kgo32Z2"
      },
      "source": [
        "A majority of the patients are female."
      ]
    },
    {
      "cell_type": "markdown",
      "metadata": {
        "id": "c-c0i4wGY9r1"
      },
      "source": [
        "### Bivariate analysis"
      ]
    },
    {
      "cell_type": "code",
      "metadata": {
        "colab": {
          "base_uri": "https://localhost:8080/",
          "height": 519
        },
        "id": "9UPaMxmHZY9m",
        "outputId": "db87c8bf-dd25-4a24-c912-13c09f08dae8"
      },
      "source": [
        "# plotting a grouped bar graph for plotting the total number of patients tested positive and negative for hypothyroidism by gender.\n",
        "\n",
        "by_sex = pd.DataFrame(data.groupby(by=['status'])['sex'].value_counts())\n",
        "by_sex.columns = by_sex.columns.str.replace('sex','sex_count')\n",
        "by_sex.reset_index(['sex'], inplace=True)\n",
        "\n",
        "sns.barplot(x=by_sex.index, y=by_sex['sex_count'], hue=by_sex['sex'] ,palette='cool_r')\n"
      ],
      "execution_count": null,
      "outputs": [
        {
          "data": {
            "text/plain": [
              "<matplotlib.axes._subplots.AxesSubplot at 0x7fcab7ec2390>"
            ]
          },
          "execution_count": 33,
          "metadata": {},
          "output_type": "execute_result"
        },
        {
          "data": {
            "image/png": "[encoded data removed]",
            "text/plain": [
              "<Figure size 720x576 with 1 Axes>"
            ]
          },
          "metadata": {},
          "output_type": "display_data"
        }
      ]
    },
    {
      "cell_type": "markdown",
      "metadata": {
        "id": "eJvquJ6M4K77"
      },
      "source": [
        "There is a larger difference in the number of male and female patients for those who got a negative diagnosis."
      ]
    },
    {
      "cell_type": "code",
      "metadata": {
        "id": "23heW77QBygf"
      },
      "source": [
        "# defining a function for plotting grouped bar graphs of the categorical variables in our dataset against the status variable\n",
        "\n",
        "def plot_grouped(col):\n",
        "  df = pd.DataFrame(data.groupby(by=['status'])[col].value_counts())\n",
        "  df.columns = df.columns.str.replace(col,'count')\n",
        "  df.reset_index([col], inplace=True)\n",
        "\n",
        "  plt.title(f\"\\nStatus diagnosis by:{col} variable\")\n",
        "  sns.barplot(x=df.index, y=df['count'], hue=df[col] ,palette='cool_r')\n"
      ],
      "execution_count": null,
      "outputs": []
    },
    {
      "cell_type": "code",
      "metadata": {
        "colab": {
          "base_uri": "https://localhost:8080/",
          "height": 902
        },
        "id": "oAD6VFPrDbfe",
        "outputId": "a49c53d4-af35-44e6-e579-8e0e67697b3b"
      },
      "source": [
        "plt.figure(figsize=(20,20))\n",
        "plt.subplot(4,5,1)\n",
        "plot_grouped('thyroid_surgery')\n",
        "plt.subplot(4,5,3)\n",
        "plot_grouped('sick')\n",
        "plt.subplot(4,5,5)\n",
        "plot_grouped('goitre')\n",
        "plt.subplot(4,5,6)\n",
        "plot_grouped('query_hypothyroid')\n",
        "plt.subplot(4,5,8)\n",
        "plot_grouped('on_antithyroid_medication')\n",
        "plt.subplot(4,5,10)\n",
        "plot_grouped('tumor')\n",
        "plt.subplot(4,5,11)\n",
        "plot_grouped('query_hyperthyroid')\n",
        "plt.subplot(4,5,13)\n",
        "plot_grouped('pregnant')\n",
        "plt.subplot(4,5,15)\n",
        "plot_grouped('lithium')"
      ],
      "execution_count": null,
      "outputs": [
        {
          "data": {
            "image/png": "[encoded data removed]",
            "text/plain": [
              "<Figure size 1440x1440 with 9 Axes>"
            ]
          },
          "metadata": {},
          "output_type": "display_data"
        }
      ]
    },
    {
      "cell_type": "markdown",
      "metadata": {
        "id": "uHyCaJ-ny-hV"
      },
      "source": [
        "From the plot above I am able to infer the following:\n",
        "- For all the above plotted variables, it appears that there is barely any patient diagnosed positive for hypothyroidism that exhibits the positive value(a yes value). \n",
        "- The plots don't give much information pertaining to positively diagnosed patients."
      ]
    },
    {
      "cell_type": "markdown",
      "metadata": {
        "id": "ri-nhpUiZBJ5"
      },
      "source": [
        "### Multivariate analysis"
      ]
    },
    {
      "cell_type": "code",
      "metadata": {
        "colab": {
          "base_uri": "https://localhost:8080/",
          "height": 519
        },
        "id": "et7JrL49wuBz",
        "outputId": "d2d3bae6-57ff-4e7c-edb2-985e3180d7a6"
      },
      "source": [
        "# plotting a graph of the test results for TT4 test against those for FTI.\n",
        "\n",
        "sns.scatterplot(x=data['FTI'], y=data['TT4'], hue=data['status'], palette='cool_r')"
      ],
      "execution_count": null,
      "outputs": [
        {
          "data": {
            "text/plain": [
              "<matplotlib.axes._subplots.AxesSubplot at 0x7fcab7dda990>"
            ]
          },
          "execution_count": 36,
          "metadata": {},
          "output_type": "execute_result"
        },
        {
          "data": {
            "image/png": "[encoded data removed]",
            "text/plain": [
              "<Figure size 720x576 with 1 Axes>"
            ]
          },
          "metadata": {},
          "output_type": "display_data"
        }
      ]
    },
    {
      "cell_type": "markdown",
      "metadata": {
        "id": "NYAm9-I2z7vt"
      },
      "source": [
        "- There appears to be a direct linear relationship between the two test results.\n",
        "- For both tests, patients with hypothyroidism exhibit lower value results."
      ]
    },
    {
      "cell_type": "code",
      "metadata": {
        "colab": {
          "base_uri": "https://localhost:8080/",
          "height": 519
        },
        "id": "VqsKoB-IyNxx",
        "outputId": "3a8ef8fa-414e-48a8-de94-df7bea1045a3"
      },
      "source": [
        "# plotting a scatter plot for the FTI test results against the TSH test results.\n",
        "\n",
        "sns.scatterplot(x=data['FTI'], y=data['TSH'], hue=data['status'], palette='cool')"
      ],
      "execution_count": null,
      "outputs": [
        {
          "data": {
            "text/plain": [
              "<matplotlib.axes._subplots.AxesSubplot at 0x7fcab6944fd0>"
            ]
          },
          "execution_count": 37,
          "metadata": {},
          "output_type": "execute_result"
        },
        {
          "data": {
            "image/png": "[encoded data removed]",
            "text/plain": [
              "<Figure size 720x576 with 1 Axes>"
            ]
          },
          "metadata": {},
          "output_type": "display_data"
        }
      ]
    },
    {
      "cell_type": "markdown",
      "metadata": {
        "id": "RirXb9eH1EA8"
      },
      "source": [
        "- A polynomial relationship is exhibited between the two variables. \n",
        "- For the TSH tests lower values indicate lower chances of being diagnosed positive while for the FTI tests, lower values indicate higher chances of being diagnosed positive for hypothyroidism.\n"
      ]
    },
    {
      "cell_type": "code",
      "metadata": {
        "colab": {
          "base_uri": "https://localhost:8080/",
          "height": 502
        },
        "id": "p0_Sj3W6Q6jT",
        "outputId": "5754aabc-71d3-431f-8917-af21d7dc0961"
      },
      "source": [
        "# plotting the mean test results for the negatively and positively diagnosed patients\n",
        "\n",
        "# creating a dataframe with only the status and the test result columns\n",
        "Tests = data[['status', 'TSH', 'TT4', 'T4U', 'FTI']]\n",
        "\n",
        "# groupng by status andcomputing the means\n",
        "Tests = pd.DataFrame(Tests.groupby(by=['status']).mean())\n",
        "\n",
        "# transposing my dataframe\n",
        "trans =Tests.transpose(copy=True)\n",
        "\n",
        "# plotting my graph\n",
        "trans.plot(kind='barh', stacked=True, colormap='winter')\n",
        "\n"
      ],
      "execution_count": null,
      "outputs": [
        {
          "data": {
            "text/plain": [
              "<matplotlib.axes._subplots.AxesSubplot at 0x7fcab6883d10>"
            ]
          },
          "execution_count": 38,
          "metadata": {},
          "output_type": "execute_result"
        },
        {
          "data": {
            "image/png": "[encoded data removed]",
            "text/plain": [
              "<Figure size 720x576 with 1 Axes>"
            ]
          },
          "metadata": {},
          "output_type": "display_data"
        }
      ]
    },
    {
      "cell_type": "markdown",
      "metadata": {
        "id": "5K3iOw4tgf8l"
      },
      "source": [
        "Patients that were positively diagnosed with hypothyroidism exhibited the following:\n",
        "- significantly higher levels of TSH\n",
        "- significantly lower result values for the FTI and TT4 tests.\n",
        "- higher result values for the T4U tests"
      ]
    },
    {
      "cell_type": "markdown",
      "metadata": {
        "id": "o-v0LMdwOY6n"
      },
      "source": [
        "## Implementing the solution"
      ]
    },
    {
      "cell_type": "markdown",
      "metadata": {
        "id": "YolHIGlhOfU1"
      },
      "source": [
        "i will first use a Random forest classifier to classify my data. "
      ]
    },
    {
      "cell_type": "markdown",
      "metadata": {
        "id": "eMgYrv9bpVCQ"
      },
      "source": [
        "#### Random Forest Classifier"
      ]
    },
    {
      "cell_type": "code",
      "metadata": {
        "colab": {
          "base_uri": "https://localhost:8080/"
        },
        "id": "5jkSwE7zPcxs",
        "outputId": "66e1bcb5-9eba-4d56-ef8a-267504647f71"
      },
      "source": [
        "# set the variables for the x and the y axes\n",
        "y= data['status'].values\n",
        "\n",
        "feat = data.columns.tolist()\n",
        "feat.remove('status') # the measured columns will not be of use as\n",
        "# the column likely has only yeses being no value in the test results columns is missing\n",
        "\n",
        "X= data[feat].values\n",
        "\n",
        "# dividing our dataset to train and test sets\n",
        "X_train, X_test, y_train, y_test = model_selection.train_test_split(X, y, test_size=.3, random_state=88)\n",
        "\n",
        "# # instatiating my Random forest classifier\n",
        "RFC = ensemble.RandomForestClassifier(max_depth=5)\n",
        "\n",
        "# # fitting the model to our data\n",
        "mod =RFC.fit(X_train, y_train)\n",
        "\n",
        "# # predicting the values for y using the X_test set\n",
        "\n",
        "predictions =RFC.predict(X_test)\n",
        "\n",
        "print('The random forest classifier was able to acheive an accuracy of',(metrics.accuracy_score(y_test, predictions)*100),\"%\")\n",
        "# #params ={} "
      ],
      "execution_count": null,
      "outputs": [
        {
          "name": "stdout",
          "output_type": "stream",
          "text": [
            "The random forest classifier was able to acheive an accuracy of 97.953216374269 %\n"
          ]
        }
      ]
    },
    {
      "cell_type": "code",
      "metadata": {
        "colab": {
          "base_uri": "https://localhost:8080/"
        },
        "id": "ZMx00DkXlJXk",
        "outputId": "db85609d-8d90-416d-d3e7-2512f610ed81"
      },
      "source": [
        "# using grid search to optimize my model.\n",
        "\n",
        "# creating a dictionary with my parameters\n",
        "params = {'n_estimators':[100,150,200,250,300], 'criterion':['gini','entropy'], 'max_features':['auto','log2']}\n",
        "\n",
        "# instatiating my grisearchcv\n",
        "grid = model_selection.GridSearchCV(estimator=RFC, param_grid=params, n_jobs=-1, cv=10)\n",
        "\n",
        "# fitting the model to my training data\n",
        "grid.fit(X_train, y_train)\n",
        "\n",
        "# displaying the best parameters\n",
        "grid.best_params_"
      ],
      "execution_count": null,
      "outputs": [
        {
          "data": {
            "text/plain": [
              "{'criterion': 'entropy', 'max_features': 'auto', 'n_estimators': 100}"
            ]
          },
          "execution_count": 40,
          "metadata": {},
          "output_type": "execute_result"
        }
      ]
    },
    {
      "cell_type": "code",
      "metadata": {
        "colab": {
          "base_uri": "https://localhost:8080/"
        },
        "id": "SDuekW2UlBdO",
        "outputId": "1d9bd242-fa0f-457b-dfe2-7e5553f72a47"
      },
      "source": [
        "# instatiating my Random forest classifier and inputing the best pparameters\n",
        "be = grid.best_estimator_\n",
        "\n",
        "# fitting the classifier to my training data\n",
        "model =be.fit(X_train, y_train)\n",
        "\n",
        "# geneating predicted values\n",
        "pred =model.predict(X_test)\n",
        "\n",
        "# computing the accuracy score\n",
        "print('The modified random forest classifier was able to acheive an accuracy of',(metrics.accuracy_score(y_test, pred)*100),\"%\")"
      ],
      "execution_count": null,
      "outputs": [
        {
          "name": "stdout",
          "output_type": "stream",
          "text": [
            "The modified random forest classifier was able to acheive an accuracy of 98.53801169590643 %\n"
          ]
        }
      ]
    },
    {
      "cell_type": "markdown",
      "metadata": {
        "id": "v8ciHJMDn6Qn"
      },
      "source": [
        "A slightly better accuracy was achieved by the optimized model."
      ]
    },
    {
      "cell_type": "code",
      "metadata": {
        "colab": {
          "base_uri": "https://localhost:8080/",
          "height": 672
        },
        "id": "hgGDKQ-tM5DT",
        "outputId": "5d435350-26e9-4df9-ab0e-5bdabea9f449"
      },
      "source": [
        "#plotting the feature importances\n",
        "\n",
        "feat_importances = list(model.feature_importances_)\n",
        "\n",
        "x_values = list(range(len(feat_importances)))\n",
        "\n",
        "# plotting my bar chart\n",
        "plt.bar(x_values, feat_importances, orientation = 'vertical', color='#5509B3')\n",
        "plt.xticks(x_values, feat, rotation='vertical')\n",
        "\n",
        "# Setting the title and axes label for the viz\n",
        "plt.ylabel('Importance')\n",
        "plt.xlabel('Variable') \n",
        "plt.title('Feature Importances')"
      ],
      "execution_count": null,
      "outputs": [
        {
          "data": {
            "text/plain": [
              "Text(0.5, 1.0, 'Feature Importances')"
            ]
          },
          "execution_count": 42,
          "metadata": {},
          "output_type": "execute_result"
        },
        {
          "data": {
            "image/png": "[encoded data removed]",
            "text/plain": [
              "<Figure size 720x576 with 1 Axes>"
            ]
          },
          "metadata": {},
          "output_type": "display_data"
        }
      ]
    },
    {
      "cell_type": "markdown",
      "metadata": {
        "id": "SisB__lgPIMN"
      },
      "source": [
        "The FTI tests results appear to be the most important feature. The variables containing the different tests results are evidently the most important features considered in the prediction."
      ]
    },
    {
      "cell_type": "markdown",
      "metadata": {
        "id": "ZDTdf6KqpbGk"
      },
      "source": [
        "#### Gradient Boosting Classifier"
      ]
    },
    {
      "cell_type": "code",
      "metadata": {
        "colab": {
          "base_uri": "https://localhost:8080/"
        },
        "id": "dnq5hGSXr6vb",
        "outputId": "99a55a30-4e42-4888-cc5b-59212d24cc52"
      },
      "source": [
        "# instatiating GB classifier\n",
        "GBC = ensemble.GradientBoostingClassifier(max_depth=1)\n",
        "\n",
        "# fitting gradient boost to my training data\n",
        "gr_boost = GBC.fit(X_train, y_train)\n",
        "\n",
        "# generating the predicted values\n",
        "predited =gr_boost.predict(X_test)\n",
        "\n",
        "# calculating the accuracy score\n",
        "print(\"Our GBC model achieves an accuracy of\",(metrics.accuracy_score(y_test, predited)*100),\"%.\")"
      ],
      "execution_count": null,
      "outputs": [
        {
          "name": "stdout",
          "output_type": "stream",
          "text": [
            "Our GBC model achieves an accuracy of 98.39181286549707 %.\n"
          ]
        }
      ]
    },
    {
      "cell_type": "markdown",
      "metadata": {
        "id": "Yn8K_D8I0x59"
      },
      "source": [
        "The accuracy is pretty good. The model slightly worse than the optimal Random Forest model."
      ]
    },
    {
      "cell_type": "code",
      "metadata": {
        "colab": {
          "background_save": true
        },
        "id": "pFrmJuCU1Df9",
        "outputId": "9492acf3-09e5-4695-8973-ac9df0020121"
      },
      "source": [
        "# tuning my hyperparameters to acquire better results\n",
        "\n",
        "parameters = {'loss':['deviance','exponential'], 'n_estimators':[100,150,200,250,300,350],\n",
        "              'learning_rate':[0.1,0.001,0.01,0.0001], 'subsample':[0.1,0.2,0.3,0.4,0.5,0.6,0.7,0.8,0.9,1], 'max_features':[0.2,0.3,0.4,0.1]}\n",
        "grid_boost= model_selection.GridSearchCV(estimator=GBC, param_grid=parameters,n_jobs=-1, cv=10)\n",
        "\n",
        "grid_boost.fit(X_train, y_train)\n",
        "\n",
        "grid_boost.best_params_"
      ],
      "execution_count": null,
      "outputs": [
        {
          "data": {
            "text/plain": [
              "{'learning_rate': 0.1,\n",
              " 'loss': 'deviance',\n",
              " 'max_features': 0.4,\n",
              " 'n_estimators': 300,\n",
              " 'subsample': 0.8}"
            ]
          },
          "execution_count": null,
          "metadata": {},
          "output_type": "execute_result"
        }
      ]
    },
    {
      "cell_type": "code",
      "metadata": {
        "id": "5Y8TQ_Ns7Ekh",
        "colab": {
          "base_uri": "https://localhost:8080/"
        },
        "outputId": "43fc9526-aa79-4e67-879e-82e05b06a15b"
      },
      "source": [
        "# fitting the model with the best parameters to our training data\n",
        "mode =grid.best_estimator_\n",
        "\n",
        "mode.fit(X_train, y_train)\n",
        "\n",
        "p = mode.predict(X_test)\n",
        "\n",
        "print(\"Our GBC modified model is able to achieve an accuracy of\",(metrics.accuracy_score(y_test, p)*100),\"%.\")"
      ],
      "execution_count": 46,
      "outputs": [
        {
          "output_type": "stream",
          "name": "stdout",
          "text": [
            "Our GBC modified model is able to achieve an accuracy of 98.39181286549707 %.\n"
          ]
        }
      ]
    },
    {
      "cell_type": "markdown",
      "metadata": {
        "id": "w5mUXyBREXIR"
      },
      "source": [
        "The accuracy for our gradient boosting model is 98.39%. It is similar to the accuracy value we found before hypertuning the parameters."
      ]
    },
    {
      "cell_type": "markdown",
      "metadata": {
        "id": "BsdqYomCFrg5"
      },
      "source": [
        "#### Support vector machine"
      ]
    },
    {
      "cell_type": "markdown",
      "metadata": {
        "id": "cj9-6IjthZAT"
      },
      "source": [
        "Using PCA to determine the features responsible most suitable for use in my model, i.e the features causing the largest variations in my dataset."
      ]
    },
    {
      "cell_type": "code",
      "metadata": {
        "id": "_Ml9Mi00FquN"
      },
      "source": [
        "# Scaling my data\n",
        "\n",
        "# instatiating standard scaler \n",
        "sc = preprocessing.StandardScaler()\n",
        "\n",
        "# fitting to my X_train\n",
        "\n",
        "train_standardized = sc.fit_transform(X_train)\n",
        "test_standardized = sc.transform(X_test)"
      ],
      "execution_count": 47,
      "outputs": []
    },
    {
      "cell_type": "code",
      "metadata": {
        "id": "dyKzDbe5kOHQ",
        "colab": {
          "base_uri": "https://localhost:8080/"
        },
        "outputId": "9fbfcd75-8350-4e50-b60c-580cd19ceaec"
      },
      "source": [
        "# Performing PCA\n",
        "\n",
        "# instatiating PCA\n",
        "pca = decomposition.PCA(n_components=12) # setting the n_components to six, reflective of the six features with the highest feature importances \n",
        "\n",
        "# fitting the model\n",
        "X_tr_pca = pca.fit_transform(train_standardized)\n",
        "X_te_pca = pca.transform(test_standardized)\n",
        "\n",
        "# outputting the explained variance ratios\n",
        "\n",
        "explained_var = pca.explained_variance_ratio_\n",
        "explained_var"
      ],
      "execution_count": 48,
      "outputs": [
        {
          "output_type": "execute_result",
          "data": {
            "text/plain": [
              "array([0.14899183, 0.09986993, 0.07245538, 0.06173421, 0.06083253,\n",
              "       0.05790245, 0.05618886, 0.05554957, 0.05494807, 0.05163121,\n",
              "       0.04910041, 0.04683667])"
            ]
          },
          "metadata": {},
          "execution_count": 48
        }
      ]
    },
    {
      "cell_type": "code",
      "metadata": {
        "id": "YWFJK9FNqrYT",
        "colab": {
          "base_uri": "https://localhost:8080/"
        },
        "outputId": "27e87545-e941-4d90-fac7-a2c1b19d33d4"
      },
      "source": [
        "explained_var.sum()"
      ],
      "execution_count": 49,
      "outputs": [
        {
          "output_type": "execute_result",
          "data": {
            "text/plain": [
              "0.8160410955130676"
            ]
          },
          "metadata": {},
          "execution_count": 49
        }
      ]
    },
    {
      "cell_type": "code",
      "metadata": {
        "id": "FHDqzXptm57q",
        "colab": {
          "base_uri": "https://localhost:8080/",
          "height": 502
        },
        "outputId": "7304bb1c-f29e-4efa-8eef-f538c25674f4"
      },
      "source": [
        "# plotting the scree plot\n",
        "\n",
        "PC_values = np.arange(pca.n_components_) + 1\n",
        "plt.plot(PC_values, explained_var, 'o-', linewidth=2, color='#5509B3')\n",
        "plt.xlabel('Principal Component')\n",
        "plt.ylabel('Variance Explained')\n",
        "plt.show()"
      ],
      "execution_count": 50,
      "outputs": [
        {
          "output_type": "display_data",
          "data": {
            "image/png": "[encoded data removed]",
            "text/plain": [
              "<Figure size 720x576 with 1 Axes>"
            ]
          },
          "metadata": {}
        }
      ]
    },
    {
      "cell_type": "markdown",
      "metadata": {
        "id": "DZrBi9cYpY-1"
      },
      "source": [
        "Upon setting my n_components to six: \n",
        "- The first variable explains 14% of the variation in the dataset while the sixth component explains 5% of the variation in the dataset.\n",
        "- Cumulatively the six components explain around 50% percent of the variation in the dataset. I need to increase the n_components to increase my cumulative explained variance for a more accurate model to be built.\n",
        "\n",
        "Upon increasing the n_components to twelve:\n",
        "- The first component explains 14% of the variation in the dataset while the twelfth component expains 4.6% of the variation in the dataset.\n",
        "- Cumulatively the 12 components explain around 81% of the variation in the dataset. I can now confidently buid my model.\n"
      ]
    },
    {
      "cell_type": "code",
      "metadata": {
        "id": "Uxb5S0B2pRSG",
        "colab": {
          "base_uri": "https://localhost:8080/"
        },
        "outputId": "c72c10df-3535-4e04-c4f0-09d314d3cadd"
      },
      "source": [
        "# instatiating my support vector classifier\n",
        "svc = svm.SVC()  \n",
        "\n",
        "# fitting my model\n",
        "mod_svm = svc.fit(X_tr_pca, y_train)\n",
        "\n",
        "# generating the predicted values\n",
        "s_pred = mod_svm.predict(X_te_pca)\n",
        "\n",
        "# computing the accuracy score\n",
        "print(\"My SVM model acheives an accuracy of\",(metrics.accuracy_score(y_test, s_pred)*100),\"%\")"
      ],
      "execution_count": 51,
      "outputs": [
        {
          "output_type": "stream",
          "name": "stdout",
          "text": [
            "My SVM model acheives an accuracy of 97.36842105263158 %\n"
          ]
        }
      ]
    },
    {
      "cell_type": "markdown",
      "metadata": {
        "id": "gQ-e78movtNF"
      },
      "source": [
        "Using grid search to tune hyperparameters for optimization of my svm model"
      ]
    },
    {
      "cell_type": "code",
      "metadata": {
        "id": "IXIydKCIvrm-",
        "colab": {
          "base_uri": "https://localhost:8080/"
        },
        "outputId": "03870b23-ba05-4f33-957e-3ffc4b11ee58"
      },
      "source": [
        "paramets = {'kernel':['linear', 'rbf', 'polynomial'], 'gamma':[0.0001, 0.001, 0.01, 0.1, 1, 10], 'C':[0.0001, 0.001, 0.01, 0.1, 10, 100]}\n",
        "\n",
        "grid_svm = model_selection.GridSearchCV(estimator=svc, param_grid= paramets, n_jobs=-1, cv=10)\n",
        "\n",
        "grid_svm.fit(X_tr_pca, y_train)\n",
        "grid_svm.best_params_"
      ],
      "execution_count": 52,
      "outputs": [
        {
          "output_type": "execute_result",
          "data": {
            "text/plain": [
              "{'C': 10, 'gamma': 0.01, 'kernel': 'rbf'}"
            ]
          },
          "metadata": {},
          "execution_count": 52
        }
      ]
    },
    {
      "cell_type": "code",
      "metadata": {
        "id": "l2G-TvIkyChS",
        "colab": {
          "base_uri": "https://localhost:8080/"
        },
        "outputId": "2a2ceead-d2db-4893-8ef5-379e5fb0a35f"
      },
      "source": [
        "# fitting the best estimator model to my training data and computing the accuracy of the model\n",
        "\n",
        "best_est =grid_svm.best_estimator_\n",
        "\n",
        "new_mod =best_est.fit(X_tr_pca, y_train)\n",
        "\n",
        "snew_pred = new_mod.predict(X_te_pca)\n",
        "\n",
        "print(\"My new SVM model achieves an accuracy of\",(metrics.accuracy_score(y_test, s_pred)*100),\"%\")\n"
      ],
      "execution_count": 55,
      "outputs": [
        {
          "output_type": "stream",
          "name": "stdout",
          "text": [
            "My new SVM model achieves an accuracy of 97.36842105263158 %\n"
          ]
        }
      ]
    },
    {
      "cell_type": "markdown",
      "metadata": {
        "id": "QDM9oISc7B_f"
      },
      "source": [
        "The model, even after hypertuning of the parameters, achieves an accuracy of 97.36%."
      ]
    },
    {
      "cell_type": "code",
      "metadata": {
        "id": "axpztuxNAe6O",
        "colab": {
          "base_uri": "https://localhost:8080/",
          "height": 502
        },
        "outputId": "54c0c73d-a4dd-4d19-b927-f31c34a02f30"
      },
      "source": [
        "# plotting my svm surface\n",
        "# Get support vectors themselves\n",
        "support_vectors = new_mod.support_vectors_\n",
        "\n",
        "# Visualize support vectors\n",
        "plt.scatter(X_tr_pca[:,0], X_tr_pca[:,1])\n",
        "plt.scatter(support_vectors[:,0], support_vectors[:,1], color='red')\n",
        "plt.xlabel('X1')\n",
        "plt.ylabel('X2')\n",
        "plt.show()"
      ],
      "execution_count": 56,
      "outputs": [
        {
          "output_type": "display_data",
          "data": {
            "image/png": "[encoded data removed]",
            "text/plain": [
              "<Figure size 720x576 with 1 Axes>"
            ]
          },
          "metadata": {}
        }
      ]
    },
    {
      "cell_type": "markdown",
      "metadata": {
        "id": "ymV0kmR8FwBi"
      },
      "source": [
        "## Challenging the solution"
      ]
    },
    {
      "cell_type": "markdown",
      "metadata": {
        "id": "ItcaNwpTF3u7"
      },
      "source": [
        "By using a voting classifier, I can achieve a higher accuracy than that achieved by gradient boost and random forest classifier, as it takes into account the predicted results from multiple already efficient classifiers. I will perform logistic regression on my data. I can then use the three classifiers to achieve optimal accuracy. I need three classifiers, as the voting classifier uses majority voting, therefore, having only two votes is not optimal."
      ]
    },
    {
      "cell_type": "code",
      "metadata": {
        "id": "PAmu2-lCHXOv",
        "colab": {
          "base_uri": "https://localhost:8080/"
        },
        "outputId": "074bb0cb-1f41-48bb-bf04-543f3a9a1943"
      },
      "source": [
        "# importing Logistic regression from  sklearn.linear_model\n",
        "from sklearn.linear_model import LogisticRegression\n",
        "\n",
        "Log = LogisticRegression(max_iter=500)\n",
        "\n",
        "log_model =Log.fit(X_train, y_train)\n",
        "\n",
        "y_pred = log_model.predict(X_test)\n",
        "\n",
        "print(\"My logistic regression model achieves an accuracy of\",(metrics.accuracy_score(y_test, y_pred)*100),\"%\")"
      ],
      "execution_count": 57,
      "outputs": [
        {
          "output_type": "stream",
          "name": "stdout",
          "text": [
            "My logistic regression model achieves an accuracy of 97.6608187134503 %\n"
          ]
        }
      ]
    },
    {
      "cell_type": "markdown",
      "metadata": {
        "id": "gcuhRhR7JeQm"
      },
      "source": [
        "Our logistic regression model has a lower accuracy than both Gradient Boosting and Random forest classifiers."
      ]
    },
    {
      "cell_type": "code",
      "metadata": {
        "id": "EwC32DnxJrvi",
        "colab": {
          "base_uri": "https://localhost:8080/"
        },
        "outputId": "5415980d-9088-42ea-d97b-8febea978f1a"
      },
      "source": [
        "# instatiating the voting classifier\n",
        "\n",
        "classifiers = [('Logistic regression', Log), ('Gradient Bossting Classifier', GBC), ('Random Forest Classifier', RFC)]\n",
        "VC =ensemble.VotingClassifier(classifiers)\n",
        "\n",
        "voted =VC.fit(X_train, y_train)\n",
        "\n",
        "predicted =voted.predict(X_test)\n",
        "\n",
        "print(\"Upon using a voting classifier, the accuracy achieved results to\",(metrics.accuracy_score(y_test, predicted)*100),\"%\")\n",
        "\n",
        "\n",
        "\n"
      ],
      "execution_count": 59,
      "outputs": [
        {
          "output_type": "stream",
          "name": "stdout",
          "text": [
            "Upon using a voting classifier, the accuracy achieved results to 98.53801169590643 %\n"
          ]
        }
      ]
    },
    {
      "cell_type": "markdown",
      "metadata": {
        "id": "hIx4k1UtLoVS"
      },
      "source": [
        "The accuracy achieved by the Voting classifier is 98.53% which is slightly better than the accuracy achieved by the Gradient boosting classifier, Logistic Regression and the Support vector classifier.\n",
        "The accuracy is similar to that achieved by the optimal Random Forest Classifier model."
      ]
    }
  ]
}